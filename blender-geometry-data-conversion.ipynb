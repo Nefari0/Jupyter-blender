{
 "cells": [
  {
   "cell_type": "code",
   "execution_count": null,
   "metadata": {},
   "outputs": [],
   "source": [
    "import numpy as np\n",
    "import matplotlib.pyplot as plt\n",
    "from mpl_toolkits import mplot3d"
   ]
  },
  {
   "cell_type": "markdown",
   "metadata": {},
   "source": [
    "### Internally Generated Plots"
   ]
  },
  {
   "cell_type": "code",
   "execution_count": null,
   "metadata": {},
   "outputs": [],
   "source": [
    "# u = np.linspace(-1,1,200) # default\n",
    "# fx = 4+cos(3*u)+sin(2*u) # default\n",
    "\n",
    "u = np.linspace(0,2*np.pi,200)\n",
    "x = np.cos(u)\n",
    "y = np.sin(u)\n",
    "z = 0\n"
   ]
  },
  {
   "cell_type": "markdown",
   "metadata": {},
   "source": [
    "### Extract Coordinates from External Script"
   ]
  },
  {
   "cell_type": "code",
   "execution_count": null,
   "metadata": {},
   "outputs": [],
   "source": [
    "# paste this code into script to extract/export coordinate data.\n",
    "# this code is not meant to be executed in this script\n",
    "\n",
    "# this data is reliant on external .txt files to save coordinates too\n",
    "# change paths as required\n",
    "read_data_x = open(\"C:\\\\Users\\chris\\ChrisdeMontigny\\\\Nefari0 Repository\\Python\\Blender\\coord_data_x.txt\",\"w\")\n",
    "read_data_y = open(\"C:\\\\Users\\chris\\ChrisdeMontigny\\\\Nefari0 Repository\\Python\\Blender\\coord_data_y.txt\",\"w\")\n",
    "read_data_z = open(\"C:\\\\Users\\chris\\ChrisdeMontigny\\\\Nefari0 Repository\\Python\\Blender\\coord_data_z.txt\",\"w\")\n",
    "\n",
    "for i in range(len(x)):\n",
    "    y_list = read_data_y.write(str(y[i]) + ',')\n",
    "    x_list = read_data_x.write(str(x[i]) + ',')\n",
    "    z_list = read_data_z.write(str(z[i]) + ',')\n",
    "read_data_y.close()\n",
    "read_data_x.close()\n",
    "read_data_z.close()\n"
   ]
  },
  {
   "cell_type": "markdown",
   "metadata": {},
   "source": [
    "### Import Data Coordinate Vectors"
   ]
  },
  {
   "cell_type": "code",
   "execution_count": null,
   "metadata": {},
   "outputs": [],
   "source": [
    "# This cell will import data from external scripts via a .txt file for each coordinate vector\n",
    "\n",
    "# x axis data\n",
    "read_data_x = open(\"coord_data_x.txt\",\"r\")\n",
    "x_list = read_data_x.read()\n",
    "read_data_x.close()\n",
    "data_vector_x = list(x_list.split(','))\n",
    "\n",
    "# y / u / fx axis data\n",
    "read_data_y = open(\"coord_data_y.txt\",\"r\")\n",
    "y_list = read_data_y.read()\n",
    "read_data_y.close()\n",
    "data_vector_y = list(y_list.split(','))\n",
    "\n",
    "# z axis data\n",
    "read_data_z = open(\"coord_data_z.txt\",\"r\")\n",
    "z_list = read_data_z.read()\n",
    "data_vector_z = list(z_list.split(','))\n",
    "\n",
    "# convert imported plots from strings into floats\n",
    "# xyz coordinates\n",
    "x = []\n",
    "y = []\n",
    "z = []\n",
    "for i in range(len(data_vector_x)-1):\n",
    "    x.append(float(data_vector_x[i]))\n",
    "    y.append(float(data_vector_y[i]))\n",
    "    z.append(float(data_vector_z[i]))\n"
   ]
  },
  {
   "cell_type": "markdown",
   "metadata": {},
   "source": [
    "### Coordinate Testing"
   ]
  },
  {
   "cell_type": "code",
   "execution_count": null,
   "metadata": {},
   "outputs": [],
   "source": [
    "# testing / experimental\n",
    "print(z)"
   ]
  },
  {
   "cell_type": "markdown",
   "metadata": {},
   "source": [
    "### Calculate and Export Plots"
   ]
  },
  {
   "cell_type": "code",
   "execution_count": null,
   "metadata": {},
   "outputs": [],
   "source": [
    "# This cell converts the plots imported/generated above into an xyz matrix.\n",
    "# This is the format Blender will use to construct the geometry\n",
    "# Two matrices are generated, one as a string and one as numeric. The string\n",
    "# is then saved to an external .txt file\n",
    "\n",
    "# ---- x / u coordinate declarations ---- #\n",
    "# u = np.linspace(-4,4,200) # linear\n",
    "# u = np.linspace(0,2*np.pi,200) # circular\n",
    "\n",
    "#  ---- y / fx coordinate declarations ---- #\n",
    "# default # example function\n",
    "# fx = 4+np.cos(3*u)+np.sin(2*u)\n",
    "    \n",
    "# this displays how the Blender geometry will look when the generated mesh\n",
    "# array (shown below) is executed in the bpy api in Blender.\n",
    "plt.plot(x,y)\n",
    "\n",
    "# this generates an array of arrays that contain 3 elements each. Each\n",
    "# of the 3 element arrays contains an x,y,z coordinate (x[i],y[i],z=0/z[i]).\n",
    "# these coordinates are converted into strings for exportation\n",
    "mesh = []\n",
    "mesh_string = ''\n",
    "for i in range(len(x)):\n",
    "    \n",
    "#     string coordinates\n",
    "    xyz_str = []\n",
    "    xyz_str.append('<' + str(x[i]) + '<')\n",
    "    xyz_str.append('<' + str(y[i]) + '<')\n",
    "#     xyz_str.append('<' + str(z[i]) + '<') # uncomment if there are non-zero z coordinates\n",
    "    xyz_str.append('<' + str(0) + '<') # comment out if there are non-zero z coordinates\n",
    "    mesh_string += '>' + str(xyz_str) + '>'\n",
    "    \n",
    "#     numerical coordindats\n",
    "    xyz = []\n",
    "    xyz.append(x[i])\n",
    "    xyz.append(y[i]) \n",
    "#     xyz.append(z[i])\n",
    "    xyz.append(0)\n",
    "    mesh.append(xyz)\n",
    "    \n",
    "print(mesh_string)\n",
    "\n",
    "# -- this set of code saves the 'mesh' array into a text file -- #\n",
    "save_mesh = open(\"mesh_data.txt\",\"w\")\n",
    "save_mesh.write(mesh_string)\n",
    "save_mesh.close()\n",
    "# ------------------------------------------------------------- #\n",
    "\n",
    "plt.axis('square')\n",
    "# plt.axis([])\n",
    "plt.grid()\n",
    "plt.show()"
   ]
  },
  {
   "cell_type": "code",
   "execution_count": null,
   "metadata": {},
   "outputs": [],
   "source": [
    "# 3d plot \n",
    "fig = plt.figure()\n",
    "ax = plt.axes(projection = '3d')\n",
    "ax.plot3D(x,y,z)"
   ]
  },
  {
   "cell_type": "markdown",
   "metadata": {},
   "source": [
    "### Prototype Import Plots"
   ]
  },
  {
   "cell_type": "code",
   "execution_count": null,
   "metadata": {},
   "outputs": [],
   "source": [
    "# this cell opens to saved .txt file from cell above and converts it\n",
    "# back into a list of lists of numbers\n",
    "# This is the code block that will be used to import \n",
    "# data from this calculation , to the python script in blender that\n",
    "# generates geometry\n",
    "\n",
    "read_mesh = open(\"C:\\\\Users\\chris\\ChrisdeMontigny\\\\Nefari0 Repository\\Python\\Blender\\mesh_data.txt\",\"r\")\n",
    "is_read = read_mesh.read()\n",
    "read_mesh.close()\n",
    "\n",
    "read_list = list(is_read.split('>>')) # converts to python array\n",
    "# list_index = read_list.split('<')\n",
    "new_coords = []\n",
    "\n",
    "# print(read_list[199])\n",
    "\n",
    "for i in range(len(read_list)-1):\n",
    "    list_index = read_list[i].split('<') # converts each array element into floats, stores in new_coord array\n",
    "    coords = [float(list_index[1]),float(list_index[3]),float(list_index[5])]\n",
    "    new_coords.append(coords)\n",
    "    \n",
    "print(new_coords)\n"
   ]
  },
  {
   "cell_type": "code",
   "execution_count": null,
   "metadata": {
    "scrolled": true
   },
   "outputs": [],
   "source": [
    "# experimental\n",
    "\n",
    "# print(new_coords)\n",
    "\n",
    "for i in new_coords:\n",
    "    plt.plot(i[0],i[1],'ro')"
   ]
  },
  {
   "cell_type": "code",
   "execution_count": null,
   "metadata": {},
   "outputs": [],
   "source": [
    "# experimental\n",
    "for i in new_coords:\n",
    "    print(i[0])"
   ]
  },
  {
   "cell_type": "code",
   "execution_count": null,
   "metadata": {},
   "outputs": [],
   "source": [
    "# experimental\n",
    "# print(type(new_coords[0][1]))\n",
    "math1 = new_coords[0][1]\n",
    "math2 = new_coords[1][0]\n",
    "print(math1,math2)\n",
    "print(math1+math2)"
   ]
  }
 ],
 "metadata": {
  "kernelspec": {
   "display_name": "Python 3",
   "language": "python",
   "name": "python3"
  },
  "language_info": {
   "codemirror_mode": {
    "name": "ipython",
    "version": 3
   },
   "file_extension": ".py",
   "mimetype": "text/x-python",
   "name": "python",
   "nbconvert_exporter": "python",
   "pygments_lexer": "ipython3",
   "version": "3.8.5"
  }
 },
 "nbformat": 4,
 "nbformat_minor": 4
}
